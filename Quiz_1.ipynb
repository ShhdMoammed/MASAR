{
  "nbformat": 4,
  "nbformat_minor": 0,
  "metadata": {
    "colab": {
      "provenance": [],
      "authorship_tag": "ABX9TyP7eJSG1augXVJhLrkw/3p+",
      "include_colab_link": true
    },
    "kernelspec": {
      "name": "python3",
      "display_name": "Python 3"
    },
    "language_info": {
      "name": "python"
    }
  },
  "cells": [
    {
      "cell_type": "markdown",
      "metadata": {
        "id": "view-in-github",
        "colab_type": "text"
      },
      "source": [
        "<a href=\"https://colab.research.google.com/github/ShhdMoammed/MASAR/blob/main/Quiz_1.ipynb\" target=\"_parent\"><img src=\"https://colab.research.google.com/assets/colab-badge.svg\" alt=\"Open In Colab\"/></a>"
      ]
    },
    {
      "cell_type": "code",
      "source": [
        "# Quiz 1\n",
        "def find_numbers(matrix, target_sum):\n",
        "    for i in range(len(matrix)):\n",
        "        for j in range(i + 1, len(matrix)):\n",
        "            if matrix[i] + matrix[j] == target_sum:\n",
        "                return matrix[i], matrix[j]\n",
        "    return None\n",
        "\n",
        "#  تعريف المصفوفة\n",
        "my_matrix = [3, 6, 9, 2, 5, 8]\n",
        "\n",
        "# المجموع المستهدف\n",
        "target_sum = 11\n",
        "\n",
        "# استدعاء الدالة\n",
        "result = find_numbers(my_matrix, target_sum)\n",
        "\n",
        "# طباعة النتيجة\n",
        "print(result)"
      ],
      "metadata": {
        "colab": {
          "base_uri": "https://localhost:8080/"
        },
        "id": "tfW2r2zjQkkY",
        "outputId": "a4195a42-1aa4-48d2-95e0-86cc2f413f48"
      },
      "execution_count": 4,
      "outputs": [
        {
          "output_type": "stream",
          "name": "stdout",
          "text": [
            "(3, 8)\n"
          ]
        }
      ]
    }
  ]
}