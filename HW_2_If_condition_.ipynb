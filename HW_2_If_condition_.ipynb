{
  "nbformat": 4,
  "nbformat_minor": 0,
  "metadata": {
    "colab": {
      "provenance": [],
      "authorship_tag": "ABX9TyO0G4EBNCfZ4mNVrezm+0Eg",
      "include_colab_link": true
    },
    "kernelspec": {
      "name": "python3",
      "display_name": "Python 3"
    },
    "language_info": {
      "name": "python"
    }
  },
  "cells": [
    {
      "cell_type": "markdown",
      "metadata": {
        "id": "view-in-github",
        "colab_type": "text"
      },
      "source": [
        "<a href=\"https://colab.research.google.com/github/ShhdMoammed/MASAR/blob/main/HW_2_If_condition_.ipynb\" target=\"_parent\"><img src=\"https://colab.research.google.com/assets/colab-badge.svg\" alt=\"Open In Colab\"/></a>"
      ]
    },
    {
      "cell_type": "code",
      "execution_count": 3,
      "metadata": {
        "colab": {
          "base_uri": "https://localhost:8080/"
        },
        "id": "A3JKGbsw0goM",
        "outputId": "19032e15-9720-4a93-d0d0-ce981ab5a148"
      },
      "outputs": [
        {
          "output_type": "stream",
          "name": "stdout",
          "text": [
            "معدل المكافأة: 20.0%\n"
          ]
        }
      ],
      "source": [
        "#HW2\n",
        "def calculate_bonus(years, evaluation):\n",
        "    if years <= 10:\n",
        "        if evaluation == \"Excellent\":\n",
        "            bonus_percentage = 0.10\n",
        "        elif evaluation == \"Poor\":\n",
        "            bonus_percentage = 0.05\n",
        "        else:\n",
        "            bonus_percentage = 0\n",
        "    else:\n",
        "        if evaluation == \"Excellent\":\n",
        "            bonus_percentage = 0.20\n",
        "        elif evaluation == \"Poor\":\n",
        "            bonus_percentage = 0.15\n",
        "        else:\n",
        "            bonus_percentage = 0\n",
        "\n",
        "    return bonus_percentage\n",
        "\n",
        "\n",
        "# تعيين القيم\n",
        "employee_years = 15\n",
        "employee_evaluation = \"Excellent\"\n",
        "\n",
        "# حساب المكافأة\n",
        "bonus = calculate_bonus(employee_years, employee_evaluation)\n",
        "\n",
        "# طباعة نتيجة الحساب\n",
        "print(f\"معدل المكافأة: {bonus * 100}%\")"
      ]
    }
  ]
}