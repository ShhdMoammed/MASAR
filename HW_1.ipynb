{
  "nbformat": 4,
  "nbformat_minor": 0,
  "metadata": {
    "colab": {
      "provenance": [],
      "authorship_tag": "ABX9TyO7J8AYxYUl+/kW/PiCV1nM",
      "include_colab_link": true
    },
    "kernelspec": {
      "name": "python3",
      "display_name": "Python 3"
    },
    "language_info": {
      "name": "python"
    }
  },
  "cells": [
    {
      "cell_type": "markdown",
      "metadata": {
        "id": "view-in-github",
        "colab_type": "text"
      },
      "source": [
        "<a href=\"https://colab.research.google.com/github/ShhdMoammed/MASAR/blob/main/HW_1.ipynb\" target=\"_parent\"><img src=\"https://colab.research.google.com/assets/colab-badge.svg\" alt=\"Open In Colab\"/></a>"
      ]
    },
    {
      "cell_type": "code",
      "execution_count": 18,
      "metadata": {
        "colab": {
          "base_uri": "https://localhost:8080/"
        },
        "id": "80828YBzPY7O",
        "outputId": "63acab35-c734-414a-8f9f-18593263776d"
      },
      "outputs": [
        {
          "output_type": "stream",
          "name": "stdout",
          "text": [
            "Hi my name is Shahad my age is 21 years ,I am excited to develop and become better at data science\n"
          ]
        }
      ],
      "source": [
        "# HW1\n",
        "#الاسم\n",
        "name = \"Shahad\"\n",
        "#العمر\n",
        "age = \"21\"\n",
        "#امر الطباعة\n",
        "print('Hi my name is ' + name , 'my age is ' + age , 'years ,I am excited to develop and become better at data science')\n",
        "\n"
      ]
    }
  ]
}