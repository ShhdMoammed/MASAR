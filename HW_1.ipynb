{
  "nbformat": 4,
  "nbformat_minor": 0,
  "metadata": {
    "colab": {
      "provenance": [],
      "authorship_tag": "ABX9TyOtpT4P4PtzA6uuZUvuuJSg",
      "include_colab_link": true
    },
    "kernelspec": {
      "name": "python3",
      "display_name": "Python 3"
    },
    "language_info": {
      "name": "python"
    }
  },
  "cells": [
    {
      "cell_type": "markdown",
      "metadata": {
        "id": "view-in-github",
        "colab_type": "text"
      },
      "source": [
        "<a href=\"https://colab.research.google.com/github/ShhdMoammed/MASAR/blob/main/HW_1.ipynb\" target=\"_parent\"><img src=\"https://colab.research.google.com/assets/colab-badge.svg\" alt=\"Open In Colab\"/></a>"
      ]
    },
    {
      "cell_type": "code",
      "execution_count": 17,
      "metadata": {
        "colab": {
          "base_uri": "https://localhost:8080/"
        },
        "id": "80828YBzPY7O",
        "outputId": "ef4b3d60-4330-448c-c8f4-5280ede8e7c6"
      },
      "outputs": [
        {
          "output_type": "stream",
          "name": "stdout",
          "text": [
            "Hi my name is Shahad my age is 21 years ,I am excited to develop and become better at data science\n"
          ]
        }
      ],
      "source": [
        "# HW1\n",
        "\n",
        "name = \"Shahad\"\n",
        "\n",
        "age = \"21\"\n",
        "\n",
        "print('Hi my name is ' + name , 'my age is ' + age , 'years ,I am excited to develop and become better at data science')\n",
        "\n"
      ]
    },
    {
      "cell_type": "code",
      "source": [],
      "metadata": {
        "id": "Am9JXAGqdINd"
      },
      "execution_count": null,
      "outputs": []
    }
  ]
}